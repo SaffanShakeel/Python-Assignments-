{
  "nbformat": 4,
  "nbformat_minor": 0,
  "metadata": {
    "colab": {
      "provenance": []
    },
    "kernelspec": {
      "name": "python3",
      "display_name": "Python 3"
    },
    "language_info": {
      "name": "python"
    }
  },
  "cells": [
    {
      "cell_type": "code",
      "execution_count": 4,
      "metadata": {
        "id": "k3Ga5bnLT8QI",
        "colab": {
          "base_uri": "https://localhost:8080/"
        },
        "outputId": "16e27fec-ea42-4dcd-dcd3-bc5c0231c168"
      },
      "outputs": [
        {
          "output_type": "stream",
          "name": "stdout",
          "text": [
            "Student Saffan accessing student portal\n",
            "Instructor Aayan accessing the Instructor Portal\n",
            "Playing Video Lecture\n"
          ]
        }
      ],
      "source": [
        "\n",
        " #All Pillars Combined:\n",
        "from abc import ABC,abstractmethod\n",
        "class User:\n",
        "  def __init__(self,name,email,role):\n",
        "   self.__name=name\n",
        "   self.__email=email\n",
        "   self.__role=role\n",
        "  def get_name(self):\n",
        "   return self.__name\n",
        "  def set_name(self,name):\n",
        "   self.__name=name\n",
        "  def get_email(self):\n",
        "   return self.__email\n",
        "  def set_email(self,email):\n",
        "   self.__email=email\n",
        "\n",
        "class Student(User):\n",
        "  def __init__(self,name,email):\n",
        "   super().__init__(name,email,\"student\")\n",
        "   self.courses=[]\n",
        "\n",
        "  def enrol_course(self,course):\n",
        "   self.courses.append(course)\n",
        "  def access_portal(self):\n",
        "   print(f\"Student {self.get_name()} accessing student portal\")\n",
        "\n",
        "class Instructor(User):\n",
        "  def __init__(self,name,email):\n",
        "   super().__init__(name,email,\"instructor\")\n",
        "   self.materials=[]\n",
        "\n",
        "  def upload_material(self,material):\n",
        "   self.materials.append(material)\n",
        "\n",
        "  def access_portal(self):\n",
        "   print(f\"Instructor {self.get_name()} accessing the Instructor Portal\")\n",
        "\n",
        "class CourseMaterial(ABC):\n",
        "  @abstractmethod\n",
        "  def display(self):\n",
        "    pass\n",
        "\n",
        "class VideoLecture(CourseMaterial):\n",
        "  def display(self):\n",
        "   print(\"Playing Video Lecture\")\n",
        "users=[\n",
        "        Student(\"Saffan\",\"student@student.com\"),\n",
        "        Instructor(\"Aayan\",\"aayan@instructor.com\")\n",
        "]\n",
        "for u in users: u.access_portal()\n",
        "materials=[VideoLecture()]\n",
        "for m in materials: m.display()"
      ]
    },
    {
      "cell_type": "code",
      "source": [
        "#Encapsulation\n",
        "class OnlineOrder:\n",
        " def __init__(self, order_id):\n",
        "  self.__order_id = order_id\n",
        "  self.__items = []\n",
        "  self.__status = \"pending\"\n",
        "\n",
        " def add_item(self, item):\n",
        "  self.__items.append(item)\n",
        " def remove_item(self, item):\n",
        "  if item in self.__items: self.__items.remove(item)\n",
        "\n",
        " def update_status(self, new_status):\n",
        "   if new_status in [\"pending\", \"shipped\", \"delivered\"]:\n",
        "      self.__status = new_status\n",
        "\n",
        " def get_order_summary(self):\n",
        "   return f\"Order ID: {self.__order_id}, Items: {self.__items}, Status: {self.__status}\"\n",
        "order= OnlineOrder(101)\n",
        "order.add_item(\"Book\")\n",
        "order.add_item(\"Pen\")\n",
        "order.remove_item(\"Pen\")\n",
        "order.update_status(\"shipped\")\n",
        "print(order.get_order_summary())"
      ],
      "metadata": {
        "colab": {
          "base_uri": "https://localhost:8080/"
        },
        "id": "l2BQmgapUEVx",
        "outputId": "1b328db4-845f-480b-8d36-f91371166808"
      },
      "execution_count": 9,
      "outputs": [
        {
          "output_type": "stream",
          "name": "stdout",
          "text": [
            "Order ID: 101, Items: ['Book'], Status: shipped\n"
          ]
        }
      ]
    },
    {
      "cell_type": "code",
      "source": [
        "#Inheritance\n",
        "class Employee:\n",
        "  def __init__(self, name, emp_id):\n",
        "   self.name = name\n",
        "   self.emp_id = emp_id\n",
        "\n",
        "  def get_details(self):\n",
        "     return f\"Name: {self.name}, ID: {self.emp_id}\"\n",
        "\n",
        "class Manager(Employee):\n",
        "  def __init__(self, name, emp_id, team_size):\n",
        "      super().__init__(name, emp_id)\n",
        "      self.team_size = team_size\n",
        "\n",
        "  def get_details(self):\n",
        "    return super().get_details() + f\", Team Size: {self.team_size}\"\n",
        "\n",
        "class Developer(Employee):\n",
        "  def __init__(self, name, emp_id, language):\n",
        "    super().__init__(name, emp_id)\n",
        "    self.language = language\n",
        "\n",
        "  def get_details(self):\n",
        "    return super().get_details() + f\", Language: {self.language}\"\n",
        "\n",
        "\n",
        "m = Manager(\"Aayan\", 1, 5)\n",
        "d = Developer(\"Saffan\", 2, \"Python\")\n",
        "print(m.get_details())\n",
        "print(d.get_details())"
      ],
      "metadata": {
        "colab": {
          "base_uri": "https://localhost:8080/"
        },
        "id": "a3wJGfSZURhx",
        "outputId": "357e368e-933b-46cd-bfe3-54d1f60c9ee0"
      },
      "execution_count": 10,
      "outputs": [
        {
          "output_type": "stream",
          "name": "stdout",
          "text": [
            "Name: Aayan, ID: 1, Team Size: 5\n",
            "Name: Saffan, ID: 2, Language: Python\n"
          ]
        }
      ]
    },
    {
      "cell_type": "code",
      "source": [
        "from abc import ABC, abstractmethod\n",
        "\n",
        "class Appliance(ABC):\n",
        "  @abstractmethod\n",
        "  def turn_on(self):\n",
        "    pass\n",
        "\n",
        "  @abstractmethod\n",
        "  def turn_off(self):\n",
        "     pass\n",
        "class WashingMachine(Appliance):\n",
        "  def turn_on(self):\n",
        "     print(\"Washing clothes...\")\n",
        "\n",
        "\n",
        "\n",
        "\n",
        "\n",
        "  def turn_off(self):\n",
        "    print(\"Stopped washing.\")\n",
        "class Microwave(Appliance):\n",
        "  def turn_on(self):\n",
        "     print(\"Heating food...\")\n",
        "\n",
        "  def turn_off(self):\n",
        "     print(\"Stopped heating.\")\n",
        "\n",
        "wm = WashingMachine()\n",
        "mw = Microwave()\n",
        "\n",
        "wm.turn_on()\n",
        "wm.turn_off()\n",
        "\n",
        "mw.turn_on()\n",
        "mw.turn_off()"
      ],
      "metadata": {
        "colab": {
          "base_uri": "https://localhost:8080/"
        },
        "id": "eBH5zjKmWMY_",
        "outputId": "b65cc06a-dd81-4e36-b584-b93634b1227e"
      },
      "execution_count": 11,
      "outputs": [
        {
          "output_type": "stream",
          "name": "stdout",
          "text": [
            "Washing clothes...\n",
            "Stopped washing.\n",
            "Heating food...\n",
            "Stopped heating.\n"
          ]
        }
      ]
    },
    {
      "cell_type": "code",
      "source": [
        "#3 Polymorphism\n",
        "class MessageSender:\n",
        "  def send(self):\n",
        "      print(\"Sending a message...\")\n",
        "class EmailSender(MessageSender):\n",
        "  def send(self):\n",
        "      print(\" Sending Email\")\n",
        "\n",
        "class SMSSender(MessageSender):\n",
        "  def send(self):\n",
        "      print(\" Sending SMS\")\n",
        "\n",
        "\n",
        "senders = [EmailSender(), SMSSender()]\n",
        "for s in senders:\n",
        " s.send()"
      ],
      "metadata": {
        "colab": {
          "base_uri": "https://localhost:8080/"
        },
        "id": "SxEHisBYUWx8",
        "outputId": "1d4b926c-a3cb-4d5a-b155-a51ef10ab7cc"
      },
      "execution_count": 12,
      "outputs": [
        {
          "output_type": "stream",
          "name": "stdout",
          "text": [
            " Sending Email\n",
            " Sending SMS\n"
          ]
        }
      ]
    }
  ]
}