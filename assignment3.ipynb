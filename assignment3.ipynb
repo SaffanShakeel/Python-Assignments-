{
  "nbformat": 4,
  "nbformat_minor": 0,
  "metadata": {
    "colab": {
      "provenance": []
    },
    "kernelspec": {
      "name": "python3",
      "display_name": "Python 3"
    },
    "language_info": {
      "name": "python"
    }
  },
  "cells": [
    {
      "cell_type": "code",
      "execution_count": null,
      "metadata": {
        "colab": {
          "base_uri": "https://localhost:8080/"
        },
        "id": "IHWvXBbRSNh9",
        "outputId": "1f30ea38-5f88-452a-da9e-2aec0d43c0c5"
      },
      "outputs": [
        {
          "output_type": "stream",
          "name": "stdout",
          "text": [
            "Owner: Saffan, Balance: 1200\n"
          ]
        }
      ],
      "source": [
        "#1. Encapsulation:\n",
        "class BankAccount:\n",
        "  def __init__(self,owner,balance):\n",
        "    self.__owner=owner\n",
        "    self.__balance=balance\n",
        "\n",
        "  def deposit(self,amount):\n",
        "    if amount>0:\n",
        "      self.__balance +=amount\n",
        "\n",
        "  def withdraw(self,amount):\n",
        "    if 0<amount <= self.__balance:\n",
        "      self.__balance-=amount\n",
        "  def get_account_info(self):\n",
        "    return f\"Owner: {self.__owner}, Balance: {self.__balance}\"\n",
        "\n",
        "acc=BankAccount(\"Saffan\",1000)\n",
        "acc.deposit(500)\n",
        "acc.withdraw(300)\n",
        "print(acc.get_account_info())\n"
      ]
    },
    {
      "cell_type": "code",
      "source": [
        "2.# Inheritance:\n",
        "class Animal:\n",
        "  def speak(self):\n",
        "    return \"Some Sound\"\n",
        "\n",
        "class Dog(Animal):\n",
        "  def speak(self):\n",
        "    return \"Woof\"\n",
        "\n",
        "class Cat(Animal):\n",
        "  def speak(self):\n",
        "    return \"Meow\"\n",
        "\n",
        "d=Dog()\n",
        "c=Cat()\n",
        "print(d.speak())\n",
        "print(c.speak())\n"
      ],
      "metadata": {
        "colab": {
          "base_uri": "https://localhost:8080/"
        },
        "id": "wcIFPfsYU_Bk",
        "outputId": "c96f75cb-599c-4dcc-d127-2915b49d7153"
      },
      "execution_count": null,
      "outputs": [
        {
          "output_type": "stream",
          "name": "stdout",
          "text": [
            "Woof\n",
            "Meow\n"
          ]
        }
      ]
    },
    {
      "cell_type": "code",
      "source": [
        "3. #Polymorphism:\n",
        "class Bird:\n",
        "  def fly(self):\n",
        "    print(\"Bird is Flying\")\n",
        "\n",
        "class Airplane:\n",
        "  def fly(self):\n",
        "    print(\"Airplane is Flying\")\n",
        "\n",
        "flyabless=[Bird(),Airplane()]\n",
        "for item in flyabless:\n",
        "  item.fly()"
      ],
      "metadata": {
        "colab": {
          "base_uri": "https://localhost:8080/"
        },
        "id": "jlb3MnwvWYC8",
        "outputId": "5c59a7ae-0d55-4582-db9b-876be07b4221"
      },
      "execution_count": null,
      "outputs": [
        {
          "output_type": "stream",
          "name": "stdout",
          "text": [
            "Bird is Flying\n",
            "Airplane is Flying\n"
          ]
        }
      ]
    },
    {
      "cell_type": "code",
      "source": [
        "4. #Abstraction:\n",
        "from abc import ABC,abstractmethod\n",
        "class Shape(ABC):\n",
        "  @abstractmethod\n",
        "  def area(self):\n",
        "    pass\n",
        "class Square(Shape):\n",
        "  def __init__(self,side):\n",
        "    self.side=side\n",
        "  def area(self):\n",
        "    return self.side * self.side\n",
        "\n",
        "sq=Square(4)\n",
        "print(\"Area of square:\",sq.area())"
      ],
      "metadata": {
        "colab": {
          "base_uri": "https://localhost:8080/"
        },
        "id": "xb1AuZRTSxeC",
        "outputId": "1efae666-5337-42fc-f9f9-4f269533762c"
      },
      "execution_count": 1,
      "outputs": [
        {
          "output_type": "stream",
          "name": "stdout",
          "text": [
            "Area of square: 16\n"
          ]
        }
      ]
    },
    {
      "cell_type": "code",
      "source": [
        " #All Pillars Combined:\n",
        " from abc import ABC,abstractmethod\n",
        " class User:\n",
        "  def __init__(self,name,email,role):\n",
        "    self.__name=name\n",
        "    self.__email=email\n",
        "    self.__role=role\n",
        "  def get_name(self):\n",
        "    return self.__name\n",
        "  def set_name(self,name):\n",
        "    self.__name=name\n",
        "  def get_email(self):\n",
        "    return self.__email\n",
        "  def set_email(self,email):\n",
        "    self.__email=email\n",
        "\n",
        "class Student(User):\n",
        "  def __init__(self,name,email):\n",
        "    super().__init__(name,email,\"student\")\n",
        "    self.courses=[]\n",
        "\n",
        "  def enrol_course(self,course):\n",
        "    self.courses.append(course)\n",
        "  def access_portal(self):\n",
        "    print(f\"Student {self.get_name()} accessing student portal\")\n",
        "\n",
        "class Instructor(User):\n",
        "  def __init__(self,name,email):\n",
        "    super().__init__(name,email,\"instructor\")\n",
        "    self.materials=[]\n",
        "\n",
        "  def upload_material(self,material):\n",
        "    self.materials.append(material)\n",
        "\n",
        "  def access_portal(self):\n",
        "    print(f\"Instructor {self.get_name()} accessing the Instructor Portal\")\n",
        "\n",
        "class CourseMaterial(ABC):\n",
        "  @abstractmethod\n",
        "  def display(self):\n",
        "    pass\n",
        "\n",
        "class VideoLecture(CourseMaterial):\n",
        "  def display(self):\n",
        "    print(\"Playing Video Lecture\")\n",
        "\n",
        "users=[\n",
        "      Student(\"Saffan\",\"student@student.com\"),\n",
        "      Instructor(\"Aayan\",\"aayan@instructor.com\")\n",
        "  ]\n",
        "for u in users: u.access_portal()\n",
        "materials=[VideoLecture()]\n",
        "for m in materials: m.display()\n",
        "\n",
        "\n",
        "\n"
      ],
      "metadata": {
        "colab": {
          "base_uri": "https://localhost:8080/"
        },
        "id": "f28QnR5FuX5l",
        "outputId": "96727b7a-cd69-41e9-8ae1-d57914d2eb2d"
      },
      "execution_count": 13,
      "outputs": [
        {
          "output_type": "stream",
          "name": "stdout",
          "text": [
            "Student Saffan accessing student portal\n",
            "Instructor Aayan accessing the Instructor Portal\n",
            "Playing Video Lecture\n"
          ]
        }
      ]
    },
    {
      "cell_type": "code",
      "source": [],
      "metadata": {
        "id": "doIiFRDovfBQ"
      },
      "execution_count": null,
      "outputs": []
    }
  ]
}