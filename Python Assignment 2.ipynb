{
 "cells": [
  {
   "cell_type": "code",
   "execution_count": 68,
   "id": "7de58913",
   "metadata": {},
   "outputs": [
    {
     "name": "stdout",
     "output_type": "stream",
     "text": [
      "This is a scalene triangle\n"
     ]
    }
   ],
   "source": [
    "#A program to determine if a triangle is equilateral, isosceles, or scalene based on user input sides.\n",
    "a = int(input(\"Enter side size number: \"))\n",
    "b = int(input(\"Enter side size number: \"))\n",
    "c = int(input(\"Enter side size number: \"))\n",
    "if a ==b == c:\n",
    "    print(\"The triangle is equilateral\")\n",
    "if a==b and a != c or b==c and b!= a or a==c and a!=b:\n",
    "    print(\"The triangle is issosceles\")\n",
    "else:\n",
    "    print(\"This is a scalene triangle\")"
   ]
  },
  {
   "cell_type": "code",
   "execution_count": null,
   "id": "8ef4d592",
   "metadata": {},
   "outputs": [
    {
     "name": "stdout",
     "output_type": "stream",
     "text": [
      "The average marks percentage is 8.0\n",
      "English = 40\n",
      "The student passed in English\n",
      "The average marks percentage is 14.0\n",
      "urdu = 30\n",
      "The student failed in urdu\n",
      "The average marks percentage is 24.8\n",
      "maths = 54\n",
      "The student passed in maths\n",
      "The average marks percentage is 36.0\n",
      "pst = 56\n",
      "The student passed in pst\n",
      "The average marks percentage is 42.8\n",
      "islamiat = 34\n",
      "The student passed in islamiat\n",
      "The average marks percentage is 42.8\n"
     ]
    }
   ],
   "source": [
    "#2\n",
    "markstotal= 0\n",
    "for i in range(5):\n",
    "    subject_name = str(input(\"Input the name of the subject: \"))\n",
    "    subject_marks = int(input(\"Input the marks of the subject: \"))\n",
    "    markstotal += subject_marks/5\n",
    "    print(f\"The average marks percentage is {markstotal}\")\n",
    "\n",
    "\n",
    "    print(f\"{subject_name} = {subject_marks}\")\n",
    "    if subject_marks >= 33 and subject_marks<=100:\n",
    "        print(f\"The student passed in {subject_name}\")\n",
    "    elif subject_marks>100:\n",
    "        print(\"Incorrect number entered\")\n",
    "    else:\n",
    "        print(f\"The student failed in {subject_name}\")\n",
    "print(f\"The average marks percentage is {markstotal}\")\n"
   ]
  },
  {
   "cell_type": "code",
   "execution_count": 17,
   "id": "72762ffe",
   "metadata": {},
   "outputs": [
    {
     "name": "stdout",
     "output_type": "stream",
     "text": [
      "{'a': 12, 'b': 5, 'r': 7, 'c': 2, 'd': 5, 'u': 2, 'f': 1, 's': 1, 'i': 3, 'n': 1, 'l': 1, 'e': 1, 'o': 1, 'g': 1}\n"
     ]
    }
   ],
   "source": [
    "#3\n",
    "string = \"abracadabraurafabracusinalabradiddierdrogba\"\n",
    "dictionary = {}\n",
    "for i in string:\n",
    "    if i in dictionary:\n",
    "        dictionary[i] += 1\n",
    "    else:\n",
    "        dictionary[i] = 1\n",
    "print(dictionary)\n"
   ]
  },
  {
   "cell_type": "code",
   "execution_count": 37,
   "id": "7409a067",
   "metadata": {},
   "outputs": [
    {
     "name": "stdout",
     "output_type": "stream",
     "text": [
      "{'honey': 20, 'Lays': 50, 'juice': 12}\n"
     ]
    }
   ],
   "source": [
    "#4\n",
    "list1 = [\"honey\", \"Lays\", \"juice\"]\n",
    "list2 = [20, 50, 12]\n",
    "dictionary2 = {}\n",
    "\n",
    "for i in range(len(list1)):\n",
    "    dictionary2[list1[i]] = list2[i]\n",
    "\n",
    "print(dictionary2)\n"
   ]
  },
  {
   "cell_type": "code",
   "execution_count": 42,
   "id": "aa45bdb4",
   "metadata": {},
   "outputs": [
    {
     "name": "stdout",
     "output_type": "stream",
     "text": [
      "[ERROR] can't run because of invalid literal for int() with base 10: '123434343f'\n"
     ]
    }
   ],
   "source": [
    "#5\n",
    "try:\n",
    "    string = \"123434343f\"\n",
    "    string = int(string)\n",
    "    print(string)\n",
    "\n",
    "except Exception as e:\n",
    "    print(f\"[ERROR] can't run because of {e}\")\n"
   ]
  },
  {
   "cell_type": "code",
   "execution_count": 75,
   "id": "14a8c7d6",
   "metadata": {},
   "outputs": [
    {
     "name": "stdout",
     "output_type": "stream",
     "text": [
      "9\n"
     ]
    }
   ],
   "source": [
    "#6\n",
    "try:\n",
    "    dict = {\"islamabad\" : \"beautiful\", \"Karachi\" : \"dirty\", \"Lahore\": \"Mid\"}\n",
    "    print(dict[\"Peshawar\"])\n",
    "except KeyError:\n",
    "    print(9)\n"
   ]
  },
  {
   "cell_type": "code",
   "execution_count": null,
   "id": "a4686739",
   "metadata": {},
   "outputs": [
    {
     "name": "stdout",
     "output_type": "stream",
     "text": [
      "hiii \n"
     ]
    }
   ],
   "source": [
    "#7\n",
    "try:\n",
    "    file = open(\"notes.txt\", \"r\")\n",
    "    z = file.read()\n",
    "    print(z)\n",
    "    file.close()\n",
    "except Exception as e:\n",
    "    file.close()\n",
    "    print(\"bla\", e)"
   ]
  },
  {
   "cell_type": "code",
   "execution_count": 66,
   "id": "00bc50c4",
   "metadata": {},
   "outputs": [
    {
     "name": "stdout",
     "output_type": "stream",
     "text": [
      "This line is not a number: hello\n"
     ]
    }
   ],
   "source": [
    "#8\n",
    "try:\n",
    "    file = open(\"data.txt\", \"w\")\n",
    "    file.write(\"hello\")\n",
    "\n",
    "    file = open(\"data.txt\", \"r\")\n",
    "\n",
    "    lines = file.readlines()\n",
    "\n",
    "    for line in lines:\n",
    "        try:\n",
    "            number = int(line.strip())\n",
    "            print(\"Number:\", number)\n",
    "        except ValueError:\n",
    "            print(\"This line is not a number:\", line.strip())\n",
    "\n",
    "    file.close()\n",
    "\n",
    "except FileNotFoundError:\n",
    "    print(\"Oops! The file was not found.\")\n"
   ]
  }
 ],
 "metadata": {
  "kernelspec": {
   "display_name": "Python 3",
   "language": "python",
   "name": "python3"
  },
  "language_info": {
   "codemirror_mode": {
    "name": "ipython",
    "version": 3
   },
   "file_extension": ".py",
   "mimetype": "text/x-python",
   "name": "python",
   "nbconvert_exporter": "python",
   "pygments_lexer": "ipython3",
   "version": "3.13.2"
  }
 },
 "nbformat": 4,
 "nbformat_minor": 5
}
