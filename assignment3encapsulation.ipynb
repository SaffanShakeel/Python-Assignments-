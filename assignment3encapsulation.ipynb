{
  "nbformat": 4,
  "nbformat_minor": 0,
  "metadata": {
    "colab": {
      "provenance": []
    },
    "kernelspec": {
      "name": "python3",
      "display_name": "Python 3"
    },
    "language_info": {
      "name": "python"
    }
  },
  "cells": [
    {
      "cell_type": "code",
      "execution_count": null,
      "metadata": {
        "id": "6vNJbUU83K40"
      },
      "outputs": [],
      "source": [
        "#1. Encapsulation:\n",
        "class BankAccount:\n",
        "  def __init__(self,owner,balance):\n",
        "    self.__owner=owner\n",
        "    self.__balance=balance\n",
        "\n",
        "  def deposit(self,amount):\n",
        "    if amount>0:\n",
        "      self.__balance +=amount\n",
        "\n",
        "  def withdraw(self,amount):\n",
        "    if 0<amount <= self.__balance:\n",
        "      self.__balance-=amount\n",
        "  def get_account_info(self):\n",
        "    return f\"Owner: {self.__owner}, Balance: {self.__balance}\"\n",
        "\n",
        "acc=BankAccount(\"Saffan\",1000)\n",
        "acc.deposit(500)\n",
        "acc.withdraw(300)\n",
        "print(acc.get_account_info())\n"
      ]
    }
  ]
}